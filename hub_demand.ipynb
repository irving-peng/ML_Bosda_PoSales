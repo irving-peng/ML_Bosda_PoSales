{
 "cells": [
  {
   "cell_type": "code",
   "execution_count": 144,
   "id": "8befb91b-0495-4201-962a-80ef1a29857f",
   "metadata": {},
   "outputs": [
    {
     "data": {
      "text/html": [
       "<div>\n",
       "<style scoped>\n",
       "    .dataframe tbody tr th:only-of-type {\n",
       "        vertical-align: middle;\n",
       "    }\n",
       "\n",
       "    .dataframe tbody tr th {\n",
       "        vertical-align: top;\n",
       "    }\n",
       "\n",
       "    .dataframe thead th {\n",
       "        text-align: right;\n",
       "    }\n",
       "</style>\n",
       "<table border=\"1\" class=\"dataframe\">\n",
       "  <thead>\n",
       "    <tr style=\"text-align: right;\">\n",
       "      <th></th>\n",
       "      <th>ItemID</th>\n",
       "      <th>Year</th>\n",
       "      <th>Quantity</th>\n",
       "      <th>VehID</th>\n",
       "    </tr>\n",
       "  </thead>\n",
       "  <tbody>\n",
       "    <tr>\n",
       "      <th>0</th>\n",
       "      <td>515003</td>\n",
       "      <td>2006</td>\n",
       "      <td>184840</td>\n",
       "      <td>2006FordRanger-515003-2006</td>\n",
       "    </tr>\n",
       "    <tr>\n",
       "      <th>1</th>\n",
       "      <td>515036</td>\n",
       "      <td>2006</td>\n",
       "      <td>78034</td>\n",
       "      <td>2006CadillacEscalade-515036-2006</td>\n",
       "    </tr>\n",
       "    <tr>\n",
       "      <th>2</th>\n",
       "      <td>515036</td>\n",
       "      <td>2006</td>\n",
       "      <td>14038</td>\n",
       "      <td>2006CadillacEscalade EXT-515036-2006</td>\n",
       "    </tr>\n",
       "    <tr>\n",
       "      <th>3</th>\n",
       "      <td>515036</td>\n",
       "      <td>2006</td>\n",
       "      <td>915939</td>\n",
       "      <td>2006ChevroletSilverado 1500-515036-2006</td>\n",
       "    </tr>\n",
       "    <tr>\n",
       "      <th>4</th>\n",
       "      <td>515036</td>\n",
       "      <td>2006</td>\n",
       "      <td>322982</td>\n",
       "      <td>2006ChevroletTahoe-515036-2006</td>\n",
       "    </tr>\n",
       "  </tbody>\n",
       "</table>\n",
       "</div>"
      ],
      "text/plain": [
       "   ItemID  Year  Quantity                                    VehID\n",
       "0  515003  2006    184840               2006FordRanger-515003-2006\n",
       "1  515036  2006     78034         2006CadillacEscalade-515036-2006\n",
       "2  515036  2006     14038     2006CadillacEscalade EXT-515036-2006\n",
       "3  515036  2006    915939  2006ChevroletSilverado 1500-515036-2006\n",
       "4  515036  2006    322982           2006ChevroletTahoe-515036-2006"
      ]
     },
     "execution_count": 144,
     "metadata": {},
     "output_type": "execute_result"
    }
   ],
   "source": [
    "import pandas as pd\n",
    "import numpy as np\n",
    "import matplotlib.pyplot as plt\n",
    "import seaborn as sns\n",
    " \n",
    "from tensorflow import keras\n",
    "from keras.models import Sequential\n",
    "from keras.layers import Dense\n",
    "from keras.layers import LSTM\n",
    "df = pd.read_csv(\"data.csv\")\n",
    "                # index_col = 'Year',\n",
    "                # parse_dates=False)\n",
    "df[:5]"
   ]
  },
  {
   "cell_type": "code",
   "execution_count": 145,
   "id": "162d9201-c621-47b3-a9e5-be5fdabf395f",
   "metadata": {},
   "outputs": [
    {
     "name": "stdout",
     "output_type": "stream",
     "text": [
      "1245 73308\n",
      "1246 15934\n",
      "1247 111100\n",
      "1248 890290\n",
      "1249 292512\n",
      "1250 299870\n",
      "1251 126856\n"
     ]
    }
   ],
   "source": [
    "# utilizing mask to filiter year 2007 \n",
    "itemID = ['515096']\n",
    "mask = df['ItemID'].isin(itemID)\n",
    "item515096 = df[mask]\n",
    "item515096[:10]\n",
    "year2007 = [2007]\n",
    "mask2 = item515096['Year'].isin(year2007)\n",
    "item2007 = item515096[mask2]\n",
    "for index, row in item2007.iterrows(): # nice method to use\n",
    "    print(index, row['Quantity'])"
   ]
  },
  {
   "cell_type": "code",
   "execution_count": 136,
   "id": "be8ac642-a3c1-4bdd-bd0f-e2b2a8b34606",
   "metadata": {},
   "outputs": [
    {
     "data": {
      "text/plain": [
       "1809870"
      ]
     },
     "execution_count": 136,
     "metadata": {},
     "output_type": "execute_result"
    }
   ],
   "source": [
    "# calculating total for year 2007\n",
    "total_2007 = 0\n",
    "for index, row in item2007.iterrows(): # nice method to use\n",
    "    quantity = row['Quantity']\n",
    "    total_2007 += quantity\n",
    "\n",
    "total_2007"
   ]
  },
  {
   "cell_type": "code",
   "execution_count": 137,
   "id": "6e886067-3671-4aa8-b4c1-cda6a95c4181",
   "metadata": {},
   "outputs": [
    {
     "name": "stdout",
     "output_type": "stream",
     "text": [
      "{2007: 1809870, 2008: 1300999, 2009: 893661, 2010: 1116552, 2011: 1006239, 2012: 1180620, 2013: 1243104, 2014: 317554}\n",
      "[2007, 2008, 2009, 2010, 2011, 2012, 2013, 2014]\n"
     ]
    }
   ],
   "source": [
    "# creating a dictionary for all year manufacture\n",
    "yearly_total = {}\n",
    "for index, row in item515096.iterrows(): # nice method to use\n",
    "    year = row['Year']\n",
    "    quantity = row['Quantity']\n",
    "    if year not in yearly_total:\n",
    "        yearly_total[year] = quantity\n",
    "    else:\n",
    "        yearly_total[year] += quantity\n",
    "print(yearly_total)\n",
    "years = list(yearly_total.keys())\n",
    "print(years)"
   ]
  },
  {
   "cell_type": "code",
   "execution_count": 138,
   "id": "771eb332-4700-46f9-98ba-2c43bdcd586b",
   "metadata": {},
   "outputs": [
    {
     "data": {
      "text/plain": [
       "{2010: 1719376,\n",
       " 2011: 2869356,\n",
       " 2012: 3574866,\n",
       " 2013: 4456847,\n",
       " 2014: 5189932,\n",
       " 2015: 6052024,\n",
       " 2016: 6930372,\n",
       " 2017: 6885530,\n",
       " 2018: 6541253,\n",
       " 2019: 6214190,\n",
       " 2020: 5903481,\n",
       " 2021: 4630325,\n",
       " 2022: 3695801,\n",
       " 2023: 3028112,\n",
       " 2024: 2273367,\n",
       " 2025: 1615967,\n",
       " 2026: 897208,\n",
       " 2027: 180624}"
      ]
     },
     "execution_count": 138,
     "metadata": {},
     "output_type": "execute_result"
    }
   ],
   "source": [
    "# creating the prediction of all total demand in the after-market (2010 -> 2027)\n",
    "scrappage_rate = 0.05\n",
    "after_market = {}\n",
    "for current_year in range(2010,2028,1):\n",
    "    # check year that are in the after-market\n",
    "    start_year = current_year -13\n",
    "    end_year = current_year -3\n",
    "    if(start_year < 2007):\n",
    "        start_year = 2007\n",
    "    year_included = years[start_year -2007:end_year-2007+1]\n",
    "    #print(current_year,\": \", year_included)\n",
    "    #### calculate total up to current year###\n",
    "    total = 0\n",
    "    for year in year_included:\n",
    "        total += yearly_total[year] *0.95**(current_year-(year+3)+1) ## 0.95 should be multiply extra n times for extra n years after 2010, 2010 is 1 time\n",
    "        #print(year, \": \" + str(current_year-(year+3)+1) + \"times\")\n",
    "    after_market[current_year] = int(total)\n",
    "    #print(current_year, total)\n",
    "        \n",
    "after_market"
   ]
  },
  {
   "cell_type": "code",
   "execution_count": 139,
   "id": "7bae7b6a-3e87-4263-a0bd-e4ef587305c7",
   "metadata": {},
   "outputs": [
    {
     "data": {
      "text/html": [
       "<div>\n",
       "<style scoped>\n",
       "    .dataframe tbody tr th:only-of-type {\n",
       "        vertical-align: middle;\n",
       "    }\n",
       "\n",
       "    .dataframe tbody tr th {\n",
       "        vertical-align: top;\n",
       "    }\n",
       "\n",
       "    .dataframe thead th {\n",
       "        text-align: right;\n",
       "    }\n",
       "</style>\n",
       "<table border=\"1\" class=\"dataframe\">\n",
       "  <thead>\n",
       "    <tr style=\"text-align: right;\">\n",
       "      <th></th>\n",
       "      <th>Year</th>\n",
       "      <th>Qty</th>\n",
       "    </tr>\n",
       "  </thead>\n",
       "  <tbody>\n",
       "    <tr>\n",
       "      <th>0</th>\n",
       "      <td>2010</td>\n",
       "      <td>1719376</td>\n",
       "    </tr>\n",
       "    <tr>\n",
       "      <th>1</th>\n",
       "      <td>2011</td>\n",
       "      <td>2869356</td>\n",
       "    </tr>\n",
       "    <tr>\n",
       "      <th>2</th>\n",
       "      <td>2012</td>\n",
       "      <td>3574866</td>\n",
       "    </tr>\n",
       "    <tr>\n",
       "      <th>3</th>\n",
       "      <td>2013</td>\n",
       "      <td>4456847</td>\n",
       "    </tr>\n",
       "    <tr>\n",
       "      <th>4</th>\n",
       "      <td>2014</td>\n",
       "      <td>5189932</td>\n",
       "    </tr>\n",
       "    <tr>\n",
       "      <th>5</th>\n",
       "      <td>2015</td>\n",
       "      <td>6052024</td>\n",
       "    </tr>\n",
       "    <tr>\n",
       "      <th>6</th>\n",
       "      <td>2016</td>\n",
       "      <td>6930372</td>\n",
       "    </tr>\n",
       "    <tr>\n",
       "      <th>7</th>\n",
       "      <td>2017</td>\n",
       "      <td>6885530</td>\n",
       "    </tr>\n",
       "    <tr>\n",
       "      <th>8</th>\n",
       "      <td>2018</td>\n",
       "      <td>6541253</td>\n",
       "    </tr>\n",
       "    <tr>\n",
       "      <th>9</th>\n",
       "      <td>2019</td>\n",
       "      <td>6214190</td>\n",
       "    </tr>\n",
       "    <tr>\n",
       "      <th>10</th>\n",
       "      <td>2020</td>\n",
       "      <td>5903481</td>\n",
       "    </tr>\n",
       "    <tr>\n",
       "      <th>11</th>\n",
       "      <td>2021</td>\n",
       "      <td>4630325</td>\n",
       "    </tr>\n",
       "    <tr>\n",
       "      <th>12</th>\n",
       "      <td>2022</td>\n",
       "      <td>3695801</td>\n",
       "    </tr>\n",
       "    <tr>\n",
       "      <th>13</th>\n",
       "      <td>2023</td>\n",
       "      <td>3028112</td>\n",
       "    </tr>\n",
       "    <tr>\n",
       "      <th>14</th>\n",
       "      <td>2024</td>\n",
       "      <td>2273367</td>\n",
       "    </tr>\n",
       "    <tr>\n",
       "      <th>15</th>\n",
       "      <td>2025</td>\n",
       "      <td>1615967</td>\n",
       "    </tr>\n",
       "    <tr>\n",
       "      <th>16</th>\n",
       "      <td>2026</td>\n",
       "      <td>897208</td>\n",
       "    </tr>\n",
       "    <tr>\n",
       "      <th>17</th>\n",
       "      <td>2027</td>\n",
       "      <td>180624</td>\n",
       "    </tr>\n",
       "  </tbody>\n",
       "</table>\n",
       "</div>"
      ],
      "text/plain": [
       "    Year      Qty\n",
       "0   2010  1719376\n",
       "1   2011  2869356\n",
       "2   2012  3574866\n",
       "3   2013  4456847\n",
       "4   2014  5189932\n",
       "5   2015  6052024\n",
       "6   2016  6930372\n",
       "7   2017  6885530\n",
       "8   2018  6541253\n",
       "9   2019  6214190\n",
       "10  2020  5903481\n",
       "11  2021  4630325\n",
       "12  2022  3695801\n",
       "13  2023  3028112\n",
       "14  2024  2273367\n",
       "15  2025  1615967\n",
       "16  2026   897208\n",
       "17  2027   180624"
      ]
     },
     "execution_count": 139,
     "metadata": {},
     "output_type": "execute_result"
    }
   ],
   "source": [
    "# turn the dictionary into a df\n",
    "result = pd.DataFrame(after_market.items(), columns=['Year', 'Qty'])\n",
    "result"
   ]
  },
  {
   "cell_type": "code",
   "execution_count": 140,
   "id": "4be4b2fc-ae39-48cc-a664-3db8d700d0e1",
   "metadata": {},
   "outputs": [
    {
     "data": {
      "image/png": "[encoded data removed]",
      "text/plain": [
       "<Figure size 2000x1000 with 1 Axes>"
      ]
     },
     "metadata": {},
     "output_type": "display_data"
    }
   ],
   "source": [
    "# plot the data\n",
    "#result.plot(x=\"Year\", y=\"Qty\", kind=\"line\") \n",
    "result['Qty'].plot(legend = True, label = 'Qty', title = \\\n",
    "      \"Culmulative Demand\", style = '-', linewidth = 2.5, fontsize=15,figsize=(20, 10))\n",
    "# naming the x and y axis\n",
    "plt.xlabel('Year', fontsize=15)\n",
    "plt.ylabel('Qty', fontsize=15)\n",
    "plt.xticks(result.index,result[\"Year\"].values)\n",
    "# plotting a line plot after changing it's width and height\n",
    "\n",
    "plt.show()"
   ]
  },
  {
   "cell_type": "code",
   "execution_count": null,
   "id": "80fc10b0-ccf2-4a96-b03f-954527ed4038",
   "metadata": {},
   "outputs": [],
   "source": []
  },
  {
   "cell_type": "code",
   "execution_count": null,
   "id": "350a613e-4147-45dd-a0ec-781f414bae61",
   "metadata": {},
   "outputs": [],
   "source": []
  },
  {
   "cell_type": "code",
   "execution_count": null,
   "id": "e896ebc1-f0e5-4bb4-ba18-4fc486d56cd3",
   "metadata": {},
   "outputs": [],
   "source": []
  },
  {
   "cell_type": "code",
   "execution_count": null,
   "id": "96174722-a59b-4d21-935b-983f0b62309a",
   "metadata": {},
   "outputs": [],
   "source": []
  },
  {
   "cell_type": "code",
   "execution_count": null,
   "id": "6f968176-3dab-4d2e-b0cc-be39d4d845ec",
   "metadata": {},
   "outputs": [],
   "source": []
  }
 ],
 "metadata": {
  "kernelspec": {
   "display_name": "Python 3.10 (py310)",
   "language": "python",
   "name": "py310"
  },
  "language_info": {
   "codemirror_mode": {
    "name": "ipython",
    "version": 3
   },
   "file_extension": ".py",
   "mimetype": "text/x-python",
   "name": "python",
   "nbconvert_exporter": "python",
   "pygments_lexer": "ipython3",
   "version": "3.10.14"
  }
 },
 "nbformat": 4,
 "nbformat_minor": 5
}
